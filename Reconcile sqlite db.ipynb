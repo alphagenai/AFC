{
 "cells": [
  {
   "cell_type": "code",
   "execution_count": 4,
   "metadata": {},
   "outputs": [],
   "source": [
    "import sqlite3\n",
    "from google.cloud import bigquery"
   ]
  },
  {
   "cell_type": "code",
   "execution_count": 5,
   "metadata": {},
   "outputs": [],
   "source": [
    "db_path = r'/mnt/disks/disk-1/d_light/sfc.db'\n"
   ]
  },
  {
   "cell_type": "code",
   "execution_count": 6,
   "metadata": {},
   "outputs": [],
   "source": [
    "client = bigquery.Client()"
   ]
  },
  {
   "cell_type": "code",
   "execution_count": 12,
   "metadata": {},
   "outputs": [],
   "source": [
    "table_names = [\n",
    "    [\"`afcproj.files_dupe.Payments_2020_11_17`\", 'Payments'],\n",
    "    [\"`afcproj.files_dupe.Contracts_20201117`\", 'Contracts'],\n",
    "    [\"`afcproj.files_dupe.Adjustments_2020_11_17`\", 'Adjustments'],\n",
    "]"
   ]
  },
  {
   "cell_type": "code",
   "execution_count": 27,
   "metadata": {},
   "outputs": [
    {
     "name": "stdout",
     "output_type": "stream",
     "text": [
      "number of rows in BiqQuery = 104857117 \n",
      "number of rows in sqlite = 106141468\n",
      "number of rows in BiqQuery = 722033 \n",
      "number of rows in sqlite = 728262\n",
      "number of rows in BiqQuery = 124074 \n",
      "number of rows in sqlite = 979251\n"
     ]
    }
   ],
   "source": [
    "## 1) Check the number of entries is the same\n",
    "sqls = [\"\"\"\n",
    "        SELECT count(*) as cnt\n",
    "        FROM {}\n",
    "        WHERE \n",
    "        paymentStatusTypeEntity != 'REFUSED'\n",
    "        and\n",
    "        PaymentResultTypeEntity != 'PAYMENT_FREE_CREDIT'\n",
    "        \"\"\",\n",
    "        \"\"\"\n",
    "        SELECT count(*) as cnt\n",
    "        FROM {}\n",
    "        WHERE PaymentMethod = 'FINANCED'\n",
    "        \"\"\",\n",
    "        \"\"\"\n",
    "        SELECT count(*) as cnt\n",
    "        FROM {}\n",
    "        \"\"\",\n",
    "    ]\n",
    "\n",
    "conn = sqlite3.connect(db_path)\n",
    "cur = conn.cursor()\n",
    "\n",
    "for (bq, sq), sql in zip(table_names, sqls):\n",
    "    print(\n",
    "    \"number of rows in BiqQuery = {:,.0f} \\nnumber of rows in sqlite = {:,.0f}\".format(\n",
    "        next(iter(client.query(sql.format(bq)).result()))[0], #104,857,117 for bigquery\n",
    "        cur.execute(sql.format(sq)).fetchall()[0][0]\n",
    "        )\n",
    "    )\n",
    "\n",
    "conn.close()\n",
    "    "
   ]
  },
  {
   "cell_type": "code",
   "execution_count": 28,
   "metadata": {},
   "outputs": [
    {
     "name": "stdout",
     "output_type": "stream",
     "text": [
      "total amount in BiqQuery = 12325815738 \n",
      "total amount in sqlite = 12459691170\n",
      "total amount in BiqQuery = 19875984753 \n",
      "total amount in sqlite = 20062576814\n",
      "total amount in BiqQuery = 3144721278 \n",
      "total amount in sqlite = 25921336501\n"
     ]
    }
   ],
   "source": [
    "## 2) Check the sum of amounts is the same\n",
    "sqls = [\"\"\"\n",
    "        SELECT sum(AmountPaid) as total\n",
    "        FROM {}\n",
    "        WHERE \n",
    "        paymentStatusTypeEntity != 'REFUSED'\n",
    "        and\n",
    "        PaymentResultTypeEntity != 'PAYMENT_FREE_CREDIT'\n",
    "        \"\"\",\n",
    "        \"\"\"\n",
    "        SELECT sum(Price) as total\n",
    "        FROM {}\n",
    "        WHERE PaymentMethod = 'FINANCED'\n",
    "        \"\"\",\n",
    "        \"\"\"\n",
    "        SELECT sum(Amount) as total\n",
    "        FROM {}\n",
    "        \"\"\",\n",
    "    ]\n",
    "\n",
    "conn = sqlite3.connect(db_path)\n",
    "cur = conn.cursor()\n",
    "\n",
    "for (bq, sq), sql in zip(table_names, sqls):\n",
    "    print(\n",
    "    \"total amount in BiqQuery = {:,.0f} \\ntotal amount in sqlite = {:,.0f}\".format(\n",
    "        next(iter(client.query(sql.format(bq)).result()))[0], #104,857,117 for bigquery\n",
    "        cur.execute(sql.format(sq)).fetchall()[0][0]\n",
    "        )\n",
    "    )\n",
    "\n",
    "conn.close()\n",
    "    "
   ]
  },
  {
   "cell_type": "code",
   "execution_count": null,
   "metadata": {},
   "outputs": [],
   "source": []
  }
 ],
 "metadata": {
  "kernelspec": {
   "display_name": "Python 3",
   "language": "python",
   "name": "python3"
  },
  "language_info": {
   "codemirror_mode": {
    "name": "ipython",
    "version": 3
   },
   "file_extension": ".py",
   "mimetype": "text/x-python",
   "name": "python",
   "nbconvert_exporter": "python",
   "pygments_lexer": "ipython3",
   "version": "3.6.3"
  }
 },
 "nbformat": 4,
 "nbformat_minor": 2
}
