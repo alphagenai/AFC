{
 "cells": [
  {
   "cell_type": "code",
   "execution_count": null,
   "metadata": {},
   "outputs": [],
   "source": [
    "# -*- coding: utf-8 -*-\n",
    "\"\"\"\n",
    "Created on Fri Dec  4 14:42:18 2020\n",
    "\n",
    "@author: mark\n",
    "\"\"\"\n",
    "\n",
    "import pandas as pd\n",
    "import numpy as np\n",
    "import datetime\n",
    "import requests\n",
    "import warnings\n",
    "\n",
    "import matplotlib.pyplot as plt\n",
    "import matplotlib\n",
    "import matplotlib.dates as mdates\n",
    "import datetime as dt\n",
    "\n",
    "from xgboost import XGBRegressor\n",
    "from sklearn.preprocessing import StandardScaler\n",
    "\n",
    "from individual_analysis1 import create_small_df\n",
    "\n"
   ]
  },
  {
   "cell_type": "code",
   "execution_count": null,
   "metadata": {},
   "outputs": [],
   "source": [
    "required=1\n",
    "\n",
    "if required:\n",
    "    small_df = create_small_df(size=10, cohort='dec_17')\n",
    "    sdf = small_df['AmountPaid'].unstack(0).fillna(0).sort_index()\n",
    "    monthly_sdf = sdf.groupby(pd.Grouper(freq='M')).sum()\n",
    "    monthly_sdf.index = monthly_sdf.index.tz_localize(None)\n",
    "\n",
    "\n",
    "pred_start_date = dt.datetime(2020, 7, 31,)\n",
    "pred_end_date = dt.datetime(2020, 11, 30,)\n",
    "\n",
    "\n",
    "for contractid in monthly_sdf.columns:\n",
    "    one_contract = monthly_sdf[contractid]\n",
    "\n",
    "\n",
    "\n",
    "### XGBoost\n",
    "\n",
    "one_contract = one_contract.to_frame()\n",
    "one_contract.index.rename('ds', inplace=True)\n",
    "one_contract.rename(columns={one_contract.columns[0]:'y'}, inplace=True)\n",
    "\n",
    "\n",
    "\n"
   ]
  },
  {
   "cell_type": "code",
   "execution_count": null,
   "metadata": {},
   "outputs": [],
   "source": [
    "def featurize(t):\n",
    "    X = pd.DataFrame()\n",
    "\n",
    "    X['day'] = t.index.day\n",
    "    X['month'] = t.index.month\n",
    "    X['quarter'] = t.index.quarter\n",
    "    X['dayofweek'] = t.index.dayofweek\n",
    "    X['dayofyear'] = t.index.dayofyear\n",
    "    X['weekofyear'] = t.index.weekofyear\n",
    "    y = t.y\n",
    "    return X, y\n",
    "\n",
    "\n"
   ]
  },
  {
   "cell_type": "code",
   "execution_count": null,
   "metadata": {},
   "outputs": [],
   "source": [
    "dataset = one_contract\n",
    "featurize(dataset)[0].head()\n",
    "\n",
    "X_train, y_train = featurize(\n",
    "    dataset.loc[dataset.index < pd.to_datetime(pred_start_date)])\n",
    "X_test, y_test = featurize(\n",
    "    dataset.loc[dataset.index >= pd.to_datetime(pred_start_date)])\n",
    "\n",
    "scaler = StandardScaler()\n",
    "scaler.fit(X_train)\n",
    "    \n",
    "scaled_train = scaler.transform(X_train)\n",
    "scaled_test = scaler.transform(X_test)\n",
    "\n",
    "XGBOOST_model = XGBRegressor(n_estimators=7)"
   ]
  }
 ],
 "metadata": {
  "kernelspec": {
   "display_name": "Python 3",
   "language": "python",
   "name": "python3"
  },
  "language_info": {
   "codemirror_mode": {
    "name": "ipython",
    "version": 3
   },
   "file_extension": ".py",
   "mimetype": "text/x-python",
   "name": "python",
   "nbconvert_exporter": "python",
   "pygments_lexer": "ipython3",
   "version": "3.6.3"
  }
 },
 "nbformat": 4,
 "nbformat_minor": 2
}
