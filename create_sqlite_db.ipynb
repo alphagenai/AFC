{
 "cells": [
  {
   "cell_type": "code",
   "execution_count": 1,
   "metadata": {},
   "outputs": [],
   "source": [
    "import os\n",
    "import pandas as pd\n",
    "\n",
    "import sqlite3\n",
    "import logging\n",
    "from datetime import datetime"
   ]
  },
  {
   "cell_type": "code",
   "execution_count": 2,
   "metadata": {},
   "outputs": [],
   "source": [
    "path_to_files = r'/mnt/disks/disk-1/d_light/'\n",
    "db_path = r'/mnt/disks/disk-1/d_light/sfc.db'\n"
   ]
  },
  {
   "cell_type": "code",
   "execution_count": 3,
   "metadata": {},
   "outputs": [],
   "source": [
    "filename=r'./log/{}.log'.format(str(datetime.now().strftime(\"%Y%m%d%H%M%S\")))\n",
    "fmt = '%(asctime)s %(module)s %(levelname)s: %(message)s'\n",
    "logging.basicConfig(filename=filename, filemode='w', level='INFO', format=fmt, datefmt =\"%Y-%m-%d %H:%M:%S\")\n"
   ]
  },
  {
   "cell_type": "code",
   "execution_count": 4,
   "metadata": {},
   "outputs": [
    {
     "name": "stderr",
     "output_type": "stream",
     "text": [
      "/jet/var/python/lib/python3.6/site-packages/pandas/core/generic.py:2615: UserWarning: The spaces in these column names will not be changed. In pandas versions < 0.14, spaces were converted to underscores.\n",
      "  method=method,\n"
     ]
    }
   ],
   "source": [
    "for root, dirs, files in os.walk(path_to_files):\n",
    "    for name in files:\n",
    "        logging.debug(name)\n",
    "        if 'Payments' in name:\n",
    "            logging.info(name)\n",
    "            try:\n",
    "                conn = sqlite3.connect(db_path)\n",
    "                df = pd.read_csv(os.path.join(root, name),\n",
    "                                dtype={'TransactionTs':'object',\n",
    "                                        'Source':'str',\n",
    "                                        'ContractId':'Int64',\n",
    "                                        'CustomerId':'Int64',\n",
    "                                        'PaymentResultTypeEntity':'str',\n",
    "                                        'paymentStatusTypeEntity':'str',\n",
    "                                        'AmountPaid':'Int64',\n",
    "                                        'NumberOfTokens':'Int64',\n",
    "                                        'Duration':'float64',\n",
    "                                        },\n",
    "                                       ) \n",
    "                df = df[df['paymentStatusTypeEntity'] != 'REFUSED']  ##\n",
    "                df= df[df['PaymentResultTypeEntity'] != 'PAYMENT_FREE_CREDIT']  ##\n",
    "\n",
    "                df.to_sql('Payments', con=conn, if_exists='append', index=False)\n",
    "                conn.commit()\n",
    "                conn.close()\n",
    "                logging.info('{} committed successfully'.format(name))\n",
    "                del df\n",
    "            except Exception as e:\n",
    "                logging.exception('read_csv failed: {} \\n {}'.format(name, e))\n",
    "\n",
    "        if 'Contracts' in name:\n",
    "            pass # only need the last one\n",
    "        if 'Adjustments' in name:\n",
    "            logging.debug(name)\n",
    "\n",
    "            try:\n",
    "                conn = sqlite3.connect(db_path)\n",
    "                df = pd.read_csv(os.path.join(root, name),\n",
    "#                                dtype={ContractId               int64\n",
    "#                                        CustomerId               int64\n",
    "#                                        CurrentAccountNumber     int64\n",
    "#                                        BalanceChangeType       object\n",
    "#                                        CreatedAt               object\n",
    "#                                        Amount                   int64}\n",
    "                                ) #parse_dates=['RegistrationDate'],)\n",
    "                df.to_sql('Adjustments', con=conn, if_exists='append', index=False)\n",
    "                conn.commit()\n",
    "                conn.close()\n",
    "                logging.info('{} committed successfully'.format(name))\n",
    "                del df\n",
    "\n",
    "            except Exception as e:\n",
    "                logging.exception('read_csv failed: {} \\n {}'.format(name, e))\n",
    "        # end for\n",
    "logging.info('Completed successfully')\n"
   ]
  },
  {
   "cell_type": "code",
   "execution_count": 6,
   "metadata": {},
   "outputs": [],
   "source": [
    "last_contract_file_path = '/mnt/disks/disk-1/d_light/Contracts/Contracts_2020_11_26.csv'\n",
    "conn = sqlite3.connect(db_path)\n",
    "df = pd.read_csv(last_contract_file_path)\n",
    "df.to_sql('Contracts', con=conn, if_exists='append', index=False)\n",
    "conn.commit()\n",
    "conn.close()\n",
    "                "
   ]
  },
  {
   "cell_type": "code",
   "execution_count": null,
   "metadata": {},
   "outputs": [],
   "source": []
  }
 ],
 "metadata": {
  "kernelspec": {
   "display_name": "Python 3",
   "language": "python",
   "name": "python3"
  },
  "language_info": {
   "codemirror_mode": {
    "name": "ipython",
    "version": 3
   },
   "file_extension": ".py",
   "mimetype": "text/x-python",
   "name": "python",
   "nbconvert_exporter": "python",
   "pygments_lexer": "ipython3",
   "version": "3.6.3"
  }
 },
 "nbformat": 4,
 "nbformat_minor": 2
}
